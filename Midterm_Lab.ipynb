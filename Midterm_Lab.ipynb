{
  "nbformat": 4,
  "nbformat_minor": 0,
  "metadata": {
    "kernelspec": {
      "display_name": "Python 3",
      "language": "python",
      "name": "python3"
    },
    "language_info": {
      "codemirror_mode": {
        "name": "ipython",
        "version": 3
      },
      "file_extension": ".py",
      "mimetype": "text/x-python",
      "name": "python",
      "nbconvert_exporter": "python",
      "pygments_lexer": "ipython3",
      "version": "3.7.6"
    },
    "colab": {
      "name": "Midterm_Lab.ipynb",
      "provenance": [],
      "collapsed_sections": [],
      "include_colab_link": true
    }
  },
  "cells": [
    {
      "cell_type": "markdown",
      "metadata": {
        "id": "view-in-github",
        "colab_type": "text"
      },
      "source": [
        "<a href=\"https://colab.research.google.com/github/sdaitzman/DSA2020/blob/master/Midterm_Lab.ipynb\" target=\"_parent\"><img src=\"https://colab.research.google.com/assets/colab-badge.svg\" alt=\"Open In Colab\"/></a>"
      ]
    },
    {
      "cell_type": "markdown",
      "metadata": {
        "id": "iCRPU96rin77",
        "colab_type": "text"
      },
      "source": [
        "# DSA Practice Programming Lab\n",
        "The goal of this lab is to review the concepts seen in class so far, and to use some of the tools not already implemented for homework. This will be a good starting point to prepare for the midterm exam so make notes of any questions/areas that you find more difficult. \n",
        "\n",
        "The first few questions were taken from Cracking the Coding Interview, 6th edition."
      ]
    },
    {
      "cell_type": "markdown",
      "metadata": {
        "id": "-xLJLVBoin8B",
        "colab_type": "text"
      },
      "source": [
        "## Question 1: \n",
        "Given a short string $s1$ and a long string $s2$, write a function that counts how many permutations of $s1$ are found in $s2$. Also, give the runtime analysis (should be O($n1*n2$) where $n1$ is the length of $s1$ and $n2$ is the length of $s2$). This is roughly linear in $n2$ if $n1$ is small. \n",
        "\n",
        "Example: Your function should return three permutations for $s1$ = 'ab', $s2$ = 'baba' (starting at indices 0, 1, 2) and one permutation for $s1$ = 'cake' and $s2$ = 'cacke' (starting at index 1)."
      ]
    },
    {
      "cell_type": "code",
      "metadata": {
        "id": "Hq7inFXQin8H",
        "colab_type": "code",
        "outputId": "1d34ba7d-dc24-49a7-d1d9-11adc22cb062",
        "colab": {
          "base_uri": "https://localhost:8080/",
          "height": 90
        }
      },
      "source": [
        "def permutations(s1, s2):\n",
        "  '''\n",
        "  Counts permutations of string s1 in string s2\n",
        "  '''\n",
        "  count = 0 # the counter\n",
        "  d1 = {}   # dict of string 1\n",
        "  d2 = {}   # dict of string 2\n",
        "\n",
        "  # Build initial counter dicts from s1 and s2\n",
        "  for i in range(len(s1)):\n",
        "    if s1[i] in d1.keys(): # build dict 1\n",
        "      d1[s1[i]] += 1\n",
        "    else:\n",
        "      d1[s1[i]] = 1\n",
        "    if s2[i] in d2.keys(): # build dict 2\n",
        "      d2[s2[i]] += 1\n",
        "    else: \n",
        "      d2[s2[i]] = 1\n",
        "  \n",
        "  for i in range(len(s2) - len(s1)):\n",
        "    # iterate through s2\n",
        "    # skip the part we already have in d2\n",
        "    \n",
        "    # the subset of s2 is a permutation!\n",
        "    if d1 == d2: count += 1\n",
        "\n",
        "    # shrink or remove the d2 key we're stripping\n",
        "    if d2[s2[i]] == 1:\n",
        "      del d2[s2[i]]\n",
        "    else:\n",
        "      d2[s2[i]] -= 1\n",
        "\n",
        "    # grow or create the d2 key to include the new char\n",
        "    pos = i+len(s1)\n",
        "    if s2[pos] in d2.keys():\n",
        "      d2[s2[pos]] += 1\n",
        "    else: \n",
        "      d2[s2[pos]] = 1\n",
        "\n",
        "  # check if the last subset of s2 is a permutation!\n",
        "  if d1 == d2: count += 1\n",
        "  return count\n",
        "\n",
        "s1 = 'ab'\n",
        "s2 = 'bababa'\n",
        "print(permutations(s1, s2), \" for \", s1, \" and \", s2)\n",
        "\n",
        "s1 = 'cake'\n",
        "s2 = 'cacke'\n",
        "print(permutations(s1, s2), \" for \", s1, \" and \", s2)\n",
        "\n",
        "s1 = 'cake'\n",
        "s2 = 'cakecake'\n",
        "print(permutations(s1, s2), \" for \", s1, \" and \", s2)\n",
        "\n",
        "s1 = 'egg'\n",
        "s2 = 'eggegg'\n",
        "print(permutations(s1, s2), \" for \", s1, \" and \", s2)"
      ],
      "execution_count": 0,
      "outputs": [
        {
          "output_type": "stream",
          "text": [
            "5  for  ab  and  bababa\n",
            "1  for  cake  and  cacke\n",
            "5  for  cake  and  cakecake\n",
            "4  for  egg  and  eggegg\n"
          ],
          "name": "stdout"
        }
      ]
    },
    {
      "cell_type": "markdown",
      "metadata": {
        "id": "KEdqp9qXin8a",
        "colab_type": "text"
      },
      "source": [
        "## Question 2: \n",
        " Given two strings, write a function to check if they are one edit (or zero edits) away. For the purposes of this question, a single edit refers to either inserting a character, deleting a character, or replacing a character.\n",
        "\n",
        "Example: Your function should return True for \"lake\" and \"bake\" (one edit) but False for \"lake\" and \"ace\" (two edits)."
      ]
    },
    {
      "cell_type": "code",
      "metadata": {
        "id": "I2st-E_Uin8d",
        "colab_type": "code",
        "outputId": "31c48c80-3d45-4f56-8455-9c602e75f443",
        "colab": {
          "base_uri": "https://localhost:8080/",
          "height": 35
        }
      },
      "source": [
        "def strcmp(s1, s2):\n",
        "  ret = None\n",
        "  L1 = len(s1)\n",
        "  L2 = len(s2)\n",
        "\n",
        "  # case 1: length difference >1\n",
        "  if abs(L1 - L2) > 1: return False\n",
        "  \n",
        "  # case 2: strings equal\n",
        "  if s1 == s2: return True\n",
        "\n",
        "  # case 3: length equal\n",
        "  if L1 == L2:\n",
        "    count = 0\n",
        "    \n",
        "    for i in range(L1):\n",
        "      if s1[i] != s2[i]:\n",
        "        count += 1\n",
        "        if count > 1: return False\n",
        "\n",
        "  return True\n",
        "\n",
        "  # case 4: length different == 1\n",
        "  count = 0\n",
        "  short = s1 if len(s1)<len(s2) else s2\n",
        "  long  = s2 if len(s1)<len(s2) else s1\n",
        "\n",
        "  if short[0] == long[0]:\n",
        "      for i in range(L1):\n",
        "          if s1[i] != s2[i]:\n",
        "                count += 1\n",
        "          if count > 1: return False\n",
        "  if short[0] == long[1]:\n",
        "      for i in range(len(L1)-1):\n",
        "          if s1[i] != s2[i+1]:\n",
        "              count += 1\n",
        "          if count > 1: return False\n",
        "\n",
        "  return True\n",
        "\n",
        "s1 = 'kale'\n",
        "s2 = 'skale'\n",
        "strcmp(s1, s2)"
      ],
      "execution_count": 0,
      "outputs": [
        {
          "output_type": "execute_result",
          "data": {
            "text/plain": [
              "True"
            ]
          },
          "metadata": {
            "tags": []
          },
          "execution_count": 5
        }
      ]
    },
    {
      "cell_type": "markdown",
      "metadata": {
        "id": "GqEip8ONin8o",
        "colab_type": "text"
      },
      "source": [
        "\n",
        "## Question 3: \n",
        "Write a function that takes in two lists $l1$ and $l2$ and returns whether $l2$ is a rotation of $l1$ in $O(n1+n2)$ time, where $n1$ is the length of $l1$ and $n2$ is the length of $l2$. \n",
        "\n",
        "Example: Your function should return True for $11 = [h,e,l,l,o]$, $l2 = [e,l,l,o,h]$.\n",
        "\n",
        "> This one is wacky and Nick says he's asking Alice and will update someone on our team with the answer. He thought that working for most common strings would be a reasonable approach. The runtime requirement is no longer needed."
      ]
    },
    {
      "cell_type": "code",
      "metadata": {
        "id": "XwRsd4PJin8r",
        "colab_type": "code",
        "outputId": "bfd43d0b-3f4d-422b-d2d5-97bafa133374",
        "colab": {
          "base_uri": "https://localhost:8080/",
          "height": 35
        }
      },
      "source": [
        "def rotated(s1, s2):\n",
        "\n",
        "  if len(s1) != len(s2): return False\n",
        "\n",
        "  indices = [i for i, x in enumerate(s2) if x == s1[0]]\n",
        "  for i in indices:\n",
        "    for j in range(len(s1)):\n",
        "      pos = i + j if i+j<len(s1) else i+j-len(s1)\n",
        "      if s1[j] != s2[pos]: return False\n",
        "\n",
        "  return True\n",
        "\n",
        "s1 = list('hello')\n",
        "s2 = list('elloh')\n",
        "rotated(s1, s2)\n",
        "\n",
        "s1 = list('world')\n",
        "s2 = list('dworl')\n",
        "rotated(s1, s2)\n",
        "\n",
        "s1 = list('aaaaaaaaaaaaaaaaaaaa')\n",
        "s2 = list('aaaaaaaaaaaaaaaaaaaa')\n",
        "rotated(s1, s2)\n",
        "\n",
        "s1 = list('aaaaaaaaaaaaaaaaaaaawws')\n",
        "s2 = list('aaaaaaaaaaaaaaaaaaaawww')\n",
        "rotated(s1, s2)"
      ],
      "execution_count": 0,
      "outputs": [
        {
          "output_type": "execute_result",
          "data": {
            "text/plain": [
              "False"
            ]
          },
          "metadata": {
            "tags": []
          },
          "execution_count": 25
        }
      ]
    },
    {
      "cell_type": "markdown",
      "metadata": {
        "id": "rPNA-RvVin80",
        "colab_type": "text"
      },
      "source": [
        "\n",
        "## Question 4: \n",
        "Given a list $l$ that is a rotation of a sorted list, write a function that returns the index with the minimum element in O($log n$), where $n$ is the length of $l$.\n",
        "\n",
        "Example: Your function should return 3 for $l = [4.5, 6, 8.2, 0, 1.3, 1.4]$.\n",
        "\n",
        "> Binary search"
      ]
    },
    {
      "cell_type": "code",
      "metadata": {
        "id": "2KZL0k-Sin83",
        "colab_type": "code",
        "outputId": "7d6ab4ae-9ab1-4dc9-9b07-413ffff46ff2",
        "colab": {
          "base_uri": "https://localhost:8080/",
          "height": 109
        }
      },
      "source": [
        "def minRotation(l, start=0):\n",
        "  # if we're in the base case, time to return with a list comprehension\n",
        "  # finds the index of the minimum element in the remaining 3 items\n",
        "  # this is O(1) because the length of the list is now 4\n",
        "  if len(l) <= 4:\n",
        "    return [i for i in range(len(l)) if l[i] == min(l)][0]\n",
        "\n",
        "  i2 = int(len(l)/2)\n",
        "\n",
        "  el1 = l[0]\n",
        "  el2 = l[i2]\n",
        "  el3 = l[-1]\n",
        "\n",
        "  # case 1: break in left half\n",
        "  if el2 < el1: return minRotation(l[0:i2+1], start)\n",
        "\n",
        "  # case 2: break in right half\n",
        "  if el3 < el2: return minRotation(l[i2:-1], start + i2)\n",
        "\n",
        "  # case 3: rotation is 0\n",
        "  if el1 < el2 <= el3 or el1 <= el2 < el3: return 0\n",
        "\n",
        "  # case 4 (edge case): split points are equal\n",
        "  if el1 == el2 == el3:\n",
        "    first_half_mindex = minRotation(l[0:i2+1], start)\n",
        "    next_half_mindex = minRotation(l[i2:-1], i2 + start)\n",
        "\n",
        "    return first_half_mindex + start if l[first_half_mindex] < l[next_half_mindex] \\\n",
        "    else next_half_mindex + start\n",
        "\n",
        "  return None\n",
        "\n",
        "l = [4.5,6,8.2,0,1.3,1.4]\n",
        "print(l, ': ', minRotation(l))\n",
        "\n",
        "l = [4,5,6,-3,0,1]\n",
        "print(l, ': ', minRotation(l))\n",
        "\n",
        "l = [4,5,6,7,8]\n",
        "print(l, ': ', minRotation(l))\n",
        "\n",
        "l = [4,4,0,1,4,4,4,4,4]\n",
        "print(l, ': ', minRotation(l))\n",
        "\n",
        "l = [4,4,4,4,4,4,4,4,4,4,4,0,1,4,4,4,4,4]\n",
        "print(l, ': ', minRotation(l))"
      ],
      "execution_count": 0,
      "outputs": [
        {
          "output_type": "stream",
          "text": [
            "[4.5, 6, 8.2, 0, 1.3, 1.4] :  3\n",
            "[4, 5, 6, -3, 0, 1] :  3\n",
            "[4, 5, 6, 7, 8] :  0\n",
            "[4, 4, 0, 1, 4, 4, 4, 4, 4] :  2\n",
            "[4, 4, 4, 4, 4, 4, 4, 4, 4, 4, 4, 0, 1, 4, 4, 4, 4, 4] :  11\n"
          ],
          "name": "stdout"
        }
      ]
    },
    {
      "cell_type": "markdown",
      "metadata": {
        "id": "0yD2ptHcin9B",
        "colab_type": "text"
      },
      "source": [
        "## Question 5: \n",
        "Implement Merge Sort using the doubly linked list class you implemented for homework 2. Your algorithm should not have to copy any nodes when recursing (but may have to update O(1) pointer values). \n",
        "\n",
        "> Merge sort with a DLL"
      ]
    },
    {
      "cell_type": "code",
      "metadata": {
        "id": "82wOLQWWin9E",
        "colab_type": "code",
        "outputId": "4768c588-00cd-4a43-a577-f1f8d0257801",
        "colab": {
          "base_uri": "https://localhost:8080/",
          "height": 108
        }
      },
      "source": [
        "class Node:\n",
        "    ''' Node object which stores a value and pointers to adjacent elements '''\n",
        "    def __init__(self, val=None, next_node=None, prev_node=None):\n",
        "        ''' Constructor for a node '''\n",
        "        self.val = val\n",
        "        self.next = next_node\n",
        "        self.prev = prev_node\n",
        "\n",
        "class DLL:\n",
        "    def __init__(self, vals=None):\n",
        "        ''' Constructor for an empty list '''\n",
        "        self.first = None\n",
        "        self.last = None\n",
        "        self.node_number = 0\n",
        "\n",
        "        if vals is not None:\n",
        "            for i in range(len(vals)):\n",
        "                self.push(vals[i])\n",
        "\n",
        "    def length(self, nxt=None):\n",
        "        ''' Returns the number of nodes in the list '''\n",
        "        # TODO: work with empty DLL\n",
        "        next_node = nxt or self.first.next\n",
        "        nodes = 1\n",
        "        while next_node:\n",
        "            next_node = next_node.next\n",
        "            nodes += 1\n",
        "        return nodes\n",
        "\n",
        "    def push(self, val):\n",
        "        ''' Adds a node with value equal to val to the front of the list '''\n",
        "        # declare a new node, linked to the last\n",
        "        new_node = Node(val=val, next_node=self.first)\n",
        "        self.push_node(new_node)\n",
        "        self.node_number += 1\n",
        "\n",
        "    def push_node(self, new_node):\n",
        "        ''' Adds a node with value equal to val to the front of the list '''\n",
        "        new_node.next = self.first\n",
        "        new_node.prev = None\n",
        "        if self.first:\n",
        "            self.first.prev = new_node\n",
        "        else:\n",
        "            self.last = new_node\n",
        "        self.first = new_node\n",
        "        self.first.prev = None\n",
        "\n",
        "        self.node_number += 1\n",
        "\n",
        "\n",
        "    def insert_after(self, prev_node, val):\n",
        "        ''' Adds a node with value equal to val in the list after prev_node '''\n",
        "        new_node = Node(val=val, prev_node=prev_node)\n",
        "\n",
        "        if prev_node is self.last:\n",
        "            print(\"We're at the last node, y'all!\")\n",
        "            self.last = new_node\n",
        "            new_node.next = None # probably redundant, this kwarg is set by default to None\n",
        "        else:\n",
        "            new_node.next = prev_node.next\n",
        "            prev_node.next.prev = new_node\n",
        "        prev_node.next = new_node\n",
        "        self.node_number += 1\n",
        "\n",
        "\n",
        "    def delete(self, node):\n",
        "        ''' Removes node from the list '''\n",
        "        if node is not self.last:\n",
        "            node.next.prev = node.prev\n",
        "        else:\n",
        "            self.last = node.prev\n",
        "            node.prev.next = None\n",
        "\n",
        "        if node is not self.first:\n",
        "            node.prev.next = node.next\n",
        "        else:\n",
        "            self.first = node.next\n",
        "            node.next.prev = None\n",
        "        self.node_number -= 1\n",
        "\n",
        "\n",
        "    def index(self, i):\n",
        "        ''' Returns the node at position i (i<n)\n",
        "            Returns None for empty list\n",
        "            Returns a None node for out-of-bounds index '''\n",
        "        next_node = self.first\n",
        "        current = 0\n",
        "\n",
        "        # for each node in the chain\n",
        "        while next_node:\n",
        "            # if it's the one we want, return it\n",
        "            if current == i:\n",
        "                return next_node\n",
        "            # if it's not yet, keep going\n",
        "            elif next_node.next:\n",
        "                current += 1\n",
        "                next_node = next_node.next\n",
        "            # if we're at the end, return an unlinked node\n",
        "            else:\n",
        "                return Node(val=None, next_node=None, prev_node=None)\n",
        "\n",
        "    def merge(self, A, B):\n",
        "        ''' Merges two DLL into a single DLL, maintaining sortedness. '''\n",
        "        C = DLL()  # Define DLL for output (still in place as no nodes are created)\n",
        "\n",
        "        # Iterate backwards through the lists and add greatest value to list each time\n",
        "        head_a = A.last\n",
        "        head_b = B.last\n",
        "        while True:\n",
        "            if head_a is None:\n",
        "                # If A is empty\n",
        "                head = head_b\n",
        "                while head.prev is not None:\n",
        "                    # Add everything left in B to C\n",
        "                    prev_val = head.prev\n",
        "                    C.push_node(head)\n",
        "                    head = prev_val\n",
        "                C.push_node(head)\n",
        "                break\n",
        "            elif head_b is None:\n",
        "                # If B is empty\n",
        "                head = head_a\n",
        "                while head.prev is not None:\n",
        "                    # Add everything left in A to C\n",
        "                    prev_val = head.prev\n",
        "                    C.push_node(head)\n",
        "                    head = prev_val\n",
        "                C.push_node(head)\n",
        "                break\n",
        "\n",
        "            # Add greater value to C\n",
        "            elif head_b.val > head_a.val:\n",
        "                prev_val = head_b.prev\n",
        "                C.push_node(head_b)\n",
        "                head_b = prev_val\n",
        "            else:\n",
        "                prev_val = head_a.prev\n",
        "                C.push_node(head_a)\n",
        "                head_a = prev_val\n",
        "\n",
        "        return C\n",
        "\n",
        "    def sort(self):\n",
        "        ''' Sorts the contents of the DLL using mergesort '''\n",
        "        # in base case, return self\n",
        "        if self.length() == 1: return self\n",
        "        # Split the dll in half\n",
        "        a, b = self.half()\n",
        "        # merge the halves back after they have been sorted\n",
        "        return self.merge(a.sort(), b.sort())\n",
        "\n",
        "    def half(self):\n",
        "        ''' Splits a dll in two and returns the result '''\n",
        "        A = DLL() # Still in place as no new nodes are created\n",
        "        B = DLL()\n",
        "        head = self.first\n",
        "        for _ in range(self.length()//2):\n",
        "            # Push half the elements to A\n",
        "            next_val = head.next\n",
        "            A.push_node(head)\n",
        "            head = next_val\n",
        "        while head.next is not None:\n",
        "            # Push the rest to B\n",
        "            next_val = head.next\n",
        "            B.push_node(head)\n",
        "            head = next_val\n",
        "        B.push_node(head)\n",
        "\n",
        "        return (A, B)\n",
        "\n",
        "    def __repr__(self):\n",
        "        ''' Print a list representation of the dll '''\n",
        "        print_list = []\n",
        "        current = self.first\n",
        "        for _ in range(self.node_number):\n",
        "            if current is not None:\n",
        "                print_list.append(current.val)\n",
        "                current = current.next\n",
        "        return str(print_list)\n",
        "\n",
        "\n",
        "dll = DLL([99.4, 12, -2, 33, 14.7])\n",
        "print(dll)\n",
        "print(dll.sort(), '\\n')\n",
        "\n",
        "\n",
        "dll2 = DLL([99.4, 12, -2, 33, 14.7])\n",
        "print(dll2)\n",
        "print(dll2.sort())\n"
      ],
      "execution_count": 0,
      "outputs": [
        {
          "output_type": "stream",
          "text": [
            "[14.7, 33, -2, 12, 99.4]\n",
            "[-2, 12, 14.7, 33, 99.4] \n",
            "\n",
            "[14.7, 33, -2, 12, 99.4]\n",
            "[-2, 12, 14.7, 33, 99.4]\n"
          ],
          "name": "stdout"
        }
      ]
    },
    {
      "cell_type": "markdown",
      "metadata": {
        "id": "B_e2wQYAin9X",
        "colab_type": "text"
      },
      "source": [
        "# Challenges \n",
        "Pick at least one of the following challenges. I recommend the first one if you'd like to practice divide-and-conquer algorithms."
      ]
    },
    {
      "cell_type": "markdown",
      "metadata": {
        "id": "MOGp2vKsin9b",
        "colab_type": "text"
      },
      "source": [
        "## Challenge 1 - Skyline Problem\n",
        "Given a list of buildings including their positions and heights, find the skyline visible using a divide-and-conquer approach. See image below for a skyline example. First, you should think about how you will represent a building and how you will represent the outputted skyline. You may assume all buildings are rectangular (what a boring city). "
      ]
    },
    {
      "cell_type": "code",
      "metadata": {
        "id": "A9USMgC3B5Ki",
        "colab_type": "code",
        "outputId": "e5b7eed9-cce8-4716-f28a-9c2cc6d168b0",
        "colab": {
          "base_uri": "https://localhost:8080/",
          "height": 265
        }
      },
      "source": [
        "import matplotlib.pyplot as plt\n",
        "\n",
        "class Building:\n",
        "    def __init__(self, x, width, height):\n",
        "        self.pos = x\n",
        "        self.width = width\n",
        "        self.height = height\n",
        "\n",
        "def skyline(buildings):\n",
        "    heights = [(b.pos + x, b.height) for b in buildings for x in range(b.width)]\n",
        "    res = find(heights)\n",
        "    max_pos = res[-1][0]\n",
        "    d = dict(res)\n",
        "    return [d[i] if i in d else 0 for i in range(max_pos + 1)]\n",
        "\n",
        "def find(heights):\n",
        "    # base case: single building so we know the height\n",
        "    if len(heights) == 1: return heights\n",
        "\n",
        "    # split the buildings in half with a saw\n",
        "    center = len(heights) // 2\n",
        "    A = find(heights[:center])\n",
        "    B = find(heights[center:])\n",
        "\n",
        "    # merge the discrete skylines\n",
        "    return merge(A, B)\n",
        "\n",
        "def merge(A, B):\n",
        "    res = []\n",
        "\n",
        "    while(True):\n",
        "        if not len(A):\n",
        "            res.extend(B)\n",
        "            break\n",
        "        elif not len(B):\n",
        "            res.extend(A)\n",
        "            break\n",
        "\n",
        "        if A[0][0] == B[0][0]:\n",
        "            height = max(A[0][1], B[0][1])\n",
        "            res.append((A[0][0], height))\n",
        "            A.pop(0)\n",
        "            B.pop(0)\n",
        "        else:\n",
        "            m = A if A[0][0] < B[0][0] else B\n",
        "            res.append(m.pop(0))\n",
        "    \n",
        "    return res\n",
        "\n",
        "ans = skyline([Building(2, 2, 2), Building(0, 3, 2), Building(0, 2, 5), Building(1, 2, 3), Building(4, 2, 4), Building(7, 2, 7)])\n",
        "plt.step([i for i in range(len(ans))], ans);"
      ],
      "execution_count": 0,
      "outputs": [
        {
          "output_type": "display_data",
          "data": {
            "image/png": "[encoded data removed]",
            "text/plain": [
              "<Figure size 432x288 with 1 Axes>"
            ]
          },
          "metadata": {
            "tags": []
          }
        }
      ]
    },
    {
      "cell_type": "code",
      "metadata": {
        "id": "qZ6Fp7C3in9o",
        "colab_type": "code",
        "colab": {}
      },
      "source": [
        ""
      ],
      "execution_count": 0,
      "outputs": []
    },
    {
      "cell_type": "markdown",
      "metadata": {
        "id": "TWGGJ9nhin9v",
        "colab_type": "text"
      },
      "source": [
        "## Challenge 2 - Minesweeper\n",
        "Design an object class to represent the game of minesweeper. Think about how the way you represent the game will impact the runtime of updating the grid. You may also want to allow the user to start a game with different difficulty levels. \n",
        "\n",
        "If you want to add some funk, think about how you can change the structure or elements of the game (maybe the landscape isn't a grid? are there fun surprises to uncover?)"
      ]
    },
    {
      "cell_type": "code",
      "metadata": {
        "id": "hEWN-zuwin9z",
        "colab_type": "code",
        "outputId": "534fd4b5-39c8-45cf-c2f3-9da0fcef737f",
        "colab": {
          "base_uri": "https://localhost:8080/",
          "height": 35
        }
      },
      "source": [
        "##\n",
        "## THIS IS NOT COMPLETE\n",
        "##\n",
        "\n",
        "class Minesweeper:\n",
        "    \"\"\" Defines a Minesweeper game object. \"\"\"\n",
        "\n",
        "    class Square:\n",
        "        def __init__(self, pos):\n",
        "            \"\"\"\n",
        "            Initializes a square object. Each square is responsible for\n",
        "            knowing whether or not it is a mine, and how many mines are in its\n",
        "            proximity.\n",
        "            \"\"\"\n",
        "            self.x, self.y = pos\n",
        "            self.hidden = True\n",
        "            self.mine = False\n",
        "            self.prox = 0\n",
        "\n",
        "        def render(self):\n",
        "            # Code to render the game using whatever UI library would go here\n",
        "            # In Java that might be LWJGL, but in Python it is likely pygame\n",
        "            pass\n",
        "\n",
        "    def __init__(self, shape=(30, 16)):\n",
        "        \"\"\"\n",
        "        Initializes the Minesweeper game. Note that the field is not\n",
        "        populated with mines until the user makes the first move, as the first\n",
        "        click is never allowed to be a mine.\n",
        "        \"\"\"\n",
        "        self.width, self.height = shape\n",
        "        self.array = [Square() for _ in range(self.width * self.height)]\n",
        "        self.init = False\n",
        "        self.gameOver = False\n",
        "\n",
        "    def click(self, x, y):\n",
        "        \"\"\"\n",
        "        Updates the game when the user clicks a square. If this is the first\n",
        "        click of the game, then the board is populated with mines first.\n",
        "        \"\"\"\n",
        "        if not self.init:\n",
        "            # populate the board\n",
        "            pass\n",
        "\n",
        "        # get the square that has been clicked\n",
        "        clicked = self.array[(y * self.width) + x]\n",
        "\n",
        "        # If we've exploded a mine then it's game over\n",
        "        if clicked.mine:\n",
        "            self.gameOver = True\n",
        "            return\n",
        "        \n",
        "        clicked.hidden = False\n",
        "\n",
        "    def render(self):\n",
        "        \"\"\" Render the board onto the current display. \"\"\"\n",
        "        for n in self.array: n.render()"
      ],
      "execution_count": 0,
      "outputs": [
        {
          "output_type": "execute_result",
          "data": {
            "text/plain": [
              "(30, 16)"
            ]
          },
          "metadata": {
            "tags": []
          },
          "execution_count": 1
        }
      ]
    },
    {
      "cell_type": "code",
      "metadata": {
        "id": "wEwWW4oshI41",
        "colab_type": "code",
        "colab": {}
      },
      "source": [
        "!"
      ],
      "execution_count": 0,
      "outputs": []
    }
  ]
}