{
 "cells": [
  {
   "cell_type": "code",
   "execution_count": 2,
   "metadata": {},
   "outputs": [],
   "source": [
    "import algorithmx\n",
    "import networkx as nx\n",
    "import random\n",
    "from random import randint"
   ]
  },
  {
   "cell_type": "code",
   "execution_count": 73,
   "metadata": {},
   "outputs": [
    {
     "data": {
      "application/vnd.jupyter.widget-view+json": {
       "model_id": "50cf7ea11fbd41d0837875156daa300e",
       "version_major": 2,
       "version_minor": 0
      },
      "text/plain": [
       "JupyterClient(events=['{\"type\": \"update\", \"queue\": \"default\", \"data\": {\"attributes\": {\"size\": [500, 400]}, \"an…"
      ]
     },
     "metadata": {},
     "output_type": "display_data"
    }
   ],
   "source": [
    "def dijkstra(G, source, target):\n",
    "    Q = set(G.nodes)                    # Q = unvisited vertices\n",
    "    dist = {v: float('inf') for v in Q} # dists = infinity\n",
    "    prev = {v: float('inf') for v in Q} # prevs = infinity\n",
    "    dist[source] = 0                    # source dist = 0\n",
    "\n",
    "    while len(Q) > 0:               # until all vertices visited\n",
    "        d = {i: dist[i] for i in Q} # d = subset of dist still unvisited\n",
    "        u = min(d, key=d.get)       # u = nearest neighbor\n",
    "        Q.discard(u)                # remove from Q, since visiting\n",
    "        \n",
    "        for v, e in G.adj[u].items():   # for neighbors of u\n",
    "            alt = dist[u] + e['weight'] # what if we took u instead?\n",
    "            if alt < dist[v]:           # if shorter, redirect path\n",
    "                dist[v] = alt\n",
    "                prev[v] = u\n",
    "\n",
    "    # reconstruct path\n",
    "    path = [target]\n",
    "    while source not in path: path.append(prev[path[-1]])\n",
    "    path.reverse()\n",
    "    return path\n",
    "\n",
    "\n",
    "\n",
    "# ALL CODE BELOW IS FROM NETWORKX DOCUMENTATION\n",
    "random.seed(436) #\\\\\n",
    "canvas = algorithmx.jupyter_canvas(buttons=True)\n",
    "canvas.size((500, 400)) #\\\\\n",
    "# Generate random graph with random edge weights\n",
    "G = nx.newman_watts_strogatz_graph(25, 2, 0.4, seed=537)\n",
    "nx.set_edge_attributes(G, {e: randint(1, 20) for e in G.edges}, 'weight') #\\\\\n",
    "# Add nodes and edges with weight labels\n",
    "canvas.nodes(G.nodes).add()\n",
    "canvas.edges(G.edges).add().label().text(lambda e: G.edges[e]['weight'])\n",
    "canvas.pause(1) #\\\\\n",
    "# Select source and target\n",
    "source = 0\n",
    "target = 8\n",
    "canvas.node(source).color('green').highlight().size('1.25x')\n",
    "canvas.node(target).color('red').highlight().size('1.25x')\n",
    "canvas.pause(1.5) #\\\\\n",
    "# Run Dijkstra's shortest path algorithm\n",
    "# path = nx.dijkstra_path(G, source, target)\n",
    "path = dijkstra(G, source, target) #\\\\\n",
    "# Animate the algorithm\n",
    "path_length = 0\n",
    "for i in range(len(path) - 1):\n",
    "    u, v = path[i], path[i + 1] #\\\\\n",
    "    # Update path length\n",
    "    path_length += G[u][v]['weight'] #\\\\\n",
    "    # Traverse edge\n",
    "    canvas.edge((u, v)).traverse().color('blue')\n",
    "    canvas.pause(0.4) #\\\\\n",
    "    # Make the next node blue, unless it's the target\n",
    "    if v != target:\n",
    "        canvas.node(v).color('blue') #\\\\\n",
    "    # Add a label to indicate current path length\n",
    "    canvas.node(v).label('path').add().color('blue').text(path_length)\n",
    "    canvas.pause(0.4) #\\\\\n",
    "canvas"
   ]
  },
  {
   "cell_type": "code",
   "execution_count": 70,
   "metadata": {},
   "outputs": [],
   "source": [
    "for i in range(10, 100):\n",
    "    source = 0\n",
    "    target = 8\n",
    "    \n",
    "    G = nx.newman_watts_strogatz_graph(10, 2, 0.4, seed=537)\n",
    "    nx.set_edge_attributes(G, {e: randint(1, 20) for e in G.edges}, 'weight')\n",
    "    \n",
    "    nx_path = nx.dijkstra_path(G, source, target)\n",
    "    our_path = dijkstra(G, source, target)\n",
    "    assert our_path # check our path exists\n",
    "    assert nx_path  # does nx's path exist?\n",
    "    assert our_path == nx_path # are they equal?"
   ]
  },
  {
   "cell_type": "code",
   "execution_count": null,
   "metadata": {},
   "outputs": [],
   "source": []
  },
  {
   "cell_type": "code",
   "execution_count": null,
   "metadata": {},
   "outputs": [],
   "source": []
  }
 ],
 "metadata": {
  "kernelspec": {
   "display_name": "Python 3",
   "language": "python",
   "name": "python3"
  },
  "language_info": {
   "codemirror_mode": {
    "name": "ipython",
    "version": 3
   },
   "file_extension": ".py",
   "mimetype": "text/x-python",
   "name": "python",
   "nbconvert_exporter": "python",
   "pygments_lexer": "ipython3",
   "version": "3.7.4"
  }
 },
 "nbformat": 4,
 "nbformat_minor": 2
}
